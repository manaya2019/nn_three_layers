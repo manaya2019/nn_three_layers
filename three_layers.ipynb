{
 "cells": [
  {
   "cell_type": "code",
   "execution_count": 1,
   "metadata": {},
   "outputs": [],
   "source": [
    "import numpy as np"
   ]
  },
  {
   "cell_type": "markdown",
   "metadata": {},
   "source": [
    "## Est-ce qu'un ANN peur apprendre à dire si un eleve a son bac ou pas"
   ]
  },
  {
   "cell_type": "markdown",
   "metadata": {},
   "source": [
    "### Création d'un dataset d'élèves, de notes et leur résultat au bac"
   ]
  },
  {
   "cell_type": "code",
   "execution_count": 2,
   "metadata": {},
   "outputs": [
    {
     "data": {
      "text/plain": [
       "(4, 200)"
      ]
     },
     "execution_count": 2,
     "metadata": {},
     "output_type": "execute_result"
    }
   ],
   "source": [
    "# Je veux créer une matrice avec 4 lignes(dont chacune represente une matière) \n",
    "#et 200 colonnes pour les exemples d'éleves\n",
    "n_matieres   = 4\n",
    "n_eleves     = 200\n",
    "note_maximal = 20\n",
    "X = np.random.randint(note_maximal + 1, # pour retourner des nombres entre 0 et 20 (inclus)\n",
    "                      size=(n_matieres,\n",
    "                            n_eleves))\n",
    "\n",
    "X.shape"
   ]
  },
  {
   "cell_type": "code",
   "execution_count": 4,
   "metadata": {},
   "outputs": [
    {
     "data": {
      "text/plain": [
       "array([[1],\n",
       "       [1],\n",
       "       [1],\n",
       "       [1],\n",
       "       [1],\n",
       "       [0],\n",
       "       [1],\n",
       "       [0],\n",
       "       [1],\n",
       "       [0]])"
      ]
     },
     "execution_count": 4,
     "metadata": {},
     "output_type": "execute_result"
    }
   ],
   "source": [
    "# A partir de notre dataset X, je crée mon label Y qui renvoie aux résultats des élèves \n",
    "#c'est à dire s'ils passent le bac ou pas\n",
    "\n",
    "# Création d'un Bac fictif\n",
    "coeffs = np.array([2, 4, 2, 6])\n",
    "coeffs = coeffs.reshape(4, 1)\n",
    "\n",
    "# On calcule le score en faisant la somme des notes * coeffs pour chaque élève\n",
    "scores_bac = np.dot(X.T, coeffs)\n",
    "\n",
    "moyennes = scores_bac/np.sum(coeffs)\n",
    "\n",
    "#Pour avoir une matrice composée de 0(si l'éleve n'a pas le bac) et 1(s'il a le bac) \n",
    "Y = (moyennes>=10)*1\n",
    "\n",
    "Y[:10]"
   ]
  },
  {
   "cell_type": "markdown",
   "metadata": {},
   "source": [
    "## Architecture du RNN"
   ]
  },
  {
   "cell_type": "code",
   "execution_count": null,
   "metadata": {},
   "outputs": [],
   "source": []
  }
 ],
 "metadata": {
  "kernelspec": {
   "display_name": "Python 3",
   "language": "python",
   "name": "python3"
  },
  "language_info": {
   "codemirror_mode": {
    "name": "ipython",
    "version": 3
   },
   "file_extension": ".py",
   "mimetype": "text/x-python",
   "name": "python",
   "nbconvert_exporter": "python",
   "pygments_lexer": "ipython3",
   "version": "3.7.1"
  }
 },
 "nbformat": 4,
 "nbformat_minor": 2
}
