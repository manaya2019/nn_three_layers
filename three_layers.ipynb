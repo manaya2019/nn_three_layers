{
 "cells": [
  {
   "cell_type": "code",
   "execution_count": 1,
   "metadata": {},
   "outputs": [],
   "source": [
    "import numpy as np"
   ]
  },
  {
   "cell_type": "markdown",
   "metadata": {},
   "source": [
    "## Est-ce qu'un ANN peur apprendre à dire si un eleve a son bac ou pas"
   ]
  },
  {
   "cell_type": "markdown",
   "metadata": {},
   "source": [
    "### Création d'un dataset d'élèves, de notes et leur résultat au bac"
   ]
  },
  {
   "cell_type": "code",
   "execution_count": 2,
   "metadata": {},
   "outputs": [
    {
     "data": {
      "text/plain": [
       "(4, 200)"
      ]
     },
     "execution_count": 2,
     "metadata": {},
     "output_type": "execute_result"
    }
   ],
   "source": [
    "# Je veux créer une matrice avec 4 lignes(dont chacune represente une matière) \n",
    "#et 200 colonnes pour les exemples d'éleves\n",
    "n_matieres   = 4\n",
    "n_eleves     = 200\n",
    "note_maximal = 20\n",
    "X = np.random.randint(note_maximal + 1, # pour retourner des nombres entre 0 et 20 (inclus)\n",
    "                      size=(n_matieres,\n",
    "                            n_eleves))\n",
    "\n",
    "X.shape"
   ]
  }
 ],
 "metadata": {
  "kernelspec": {
   "display_name": "Python 3",
   "language": "python",
   "name": "python3"
  },
  "language_info": {
   "codemirror_mode": {
    "name": "ipython",
    "version": 3
   },
   "file_extension": ".py",
   "mimetype": "text/x-python",
   "name": "python",
   "nbconvert_exporter": "python",
   "pygments_lexer": "ipython3",
   "version": "3.7.1"
  }
 },
 "nbformat": 4,
 "nbformat_minor": 2
}
