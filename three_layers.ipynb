{
 "cells": [
  {
   "cell_type": "code",
   "execution_count": 8,
   "metadata": {},
   "outputs": [],
   "source": [
    "import numpy as np"
   ]
  },
  {
   "cell_type": "markdown",
   "metadata": {},
   "source": [
    "## Est-ce qu'un ANN peur apprendre à dire si un eleve a son bac ou pas"
   ]
  },
  {
   "cell_type": "markdown",
   "metadata": {},
   "source": [
    "### Création d'un dataset d'élèves, de notes et leur résultat au bac"
   ]
  },
  {
   "cell_type": "code",
   "execution_count": 24,
   "metadata": {},
   "outputs": [
    {
     "data": {
      "text/plain": [
       "(4, 200)"
      ]
     },
     "execution_count": 24,
     "metadata": {},
     "output_type": "execute_result"
    }
   ],
   "source": [
    "# Je veux créer une matrice avec 4 lignes(dont chacune represente une matière) \n",
    "#et 200 colonnes pour les exemples d'éleves\n",
    "n_matieres   = 4\n",
    "n_eleves     = 200\n",
    "note_maximal = 20\n",
    "X = np.random.randint(note_maximal + 1, # pour retourner des nombres entre 0 et 20 (inclus)\n",
    "                      size=(n_matieres,\n",
    "                            n_eleves))\n",
    "\n",
    "X.shape"
   ]
  },
  {
   "cell_type": "code",
   "execution_count": 25,
   "metadata": {},
   "outputs": [
    {
     "data": {
      "text/plain": [
       "(1, 200)"
      ]
     },
     "execution_count": 25,
     "metadata": {},
     "output_type": "execute_result"
    }
   ],
   "source": [
    "# A partir de notre dataset X, je crée mon label Y qui renvoie aux résultats des élèves \n",
    "#c'est à dire s'ils passent le bac ou pas\n",
    "\n",
    "# Création d'un Bac fictif\n",
    "coeffs = np.array([2, 4, 2, 6])\n",
    "coeffs = coeffs.reshape(4, 1)\n",
    "\n",
    "# On calcule le score en faisant la somme des notes * coeffs pour chaque élève\n",
    "scores_bac = np.dot(X.T, coeffs)\n",
    "\n",
    "moyennes = scores_bac/np.sum(coeffs)\n",
    "\n",
    "#Pour avoir une matrice composée de 0(si l'éleve n'a pas le bac) et 1(s'il a le bac) \n",
    "Y = (moyennes>=10)*1\n",
    "\n",
    "Y = Y.T\n",
    "Y.shape"
   ]
  },
  {
   "cell_type": "markdown",
   "metadata": {},
   "source": [
    "## Architecture du RNN"
   ]
  },
  {
   "cell_type": "code",
   "execution_count": 30,
   "metadata": {},
   "outputs": [],
   "source": [
    "def init_parametres(n_features_x,\n",
    "                    n_neuron_l1,\n",
    "                    n_neuron_l2,\n",
    "                    n_neuron_last):\n",
    "\n",
    "    W1 = np.random.randn(n_features_x, n_neuron_l1)*0.01\n",
    "    b1 = np.zeros(( 1, n_neuron_l1))\n",
    "    \n",
    "    \n",
    "    W2 = np.random.randn(n_neuron_l1, n_neuron_l2)*0.01\n",
    "    b2 = np.zeros(( 1, n_neuron_l2  ))\n",
    "    \n",
    "    \n",
    "    W3 = np.random.randn(n_neuron_l2, n_neuron_last)*0.01\n",
    "    b3 = np.zeros(( 1, n_neuron_last ))\n",
    "    \n",
    "    #creation d'un dictionnaire pour stocker les résultats de mes parametres\n",
    "    parametres = {\"W1\" : W1,\n",
    "                 \"W2\" : W2,\n",
    "                 \"W3\" : W3,\n",
    "                 \"b1\" : b1,\n",
    "                 \"b2\" : b2, \n",
    "                 \"b3\" : b3}\n",
    "\n",
    "    return parametres"
   ]
  },
  {
   "cell_type": "code",
   "execution_count": 31,
   "metadata": {},
   "outputs": [],
   "source": [
    "# Mon RNN aura 3 layers: 1 input layer(3), 1, hidden layer(3) et 1 output layer(1)\n",
    "#JE crée la fonction initialisation des parametres\n",
    "\n",
    "\n",
    "n_fx    = X.shape[0]\n",
    "n_n1    = 3\n",
    "n_n2    = 3\n",
    "n_nlast = Y.shape[0]\n",
    "\n",
    "parametres = init_parametres(n_fx, n_n1, n_n2, n_nlast)"
   ]
  },
  {
   "cell_type": "code",
   "execution_count": 32,
   "metadata": {},
   "outputs": [
    {
     "data": {
      "text/plain": [
       "{'W1': array([[-2.27535903e-02,  1.57443835e-02,  8.91917275e-03],\n",
       "        [ 1.95014532e-03, -2.32837457e-05, -2.33031759e-03],\n",
       "        [ 2.86040635e-03, -5.86494216e-03,  7.45966940e-03],\n",
       "        [ 3.40559715e-03, -7.63864463e-03,  8.52472747e-03]]),\n",
       " 'W2': array([[-0.00885476,  0.00325715,  0.00499263],\n",
       "        [ 0.00558159,  0.00023932, -0.01501422],\n",
       "        [ 0.00810431,  0.00934936,  0.01981149]]),\n",
       " 'W3': array([[ 0.00699469],\n",
       "        [ 0.00599046],\n",
       "        [-0.00157569]]),\n",
       " 'b1': array([[0., 0., 0.]]),\n",
       " 'b2': array([[0., 0., 0.]]),\n",
       " 'b3': array([[0.]])}"
      ]
     },
     "execution_count": 32,
     "metadata": {},
     "output_type": "execute_result"
    }
   ],
   "source": [
    "parametres"
   ]
  },
  {
   "cell_type": "code",
   "execution_count": null,
   "metadata": {},
   "outputs": [],
   "source": []
  }
 ],
 "metadata": {
  "kernelspec": {
   "display_name": "Python 3",
   "language": "python",
   "name": "python3"
  },
  "language_info": {
   "codemirror_mode": {
    "name": "ipython",
    "version": 3
   },
   "file_extension": ".py",
   "mimetype": "text/x-python",
   "name": "python",
   "nbconvert_exporter": "python",
   "pygments_lexer": "ipython3",
   "version": "3.7.1"
  }
 },
 "nbformat": 4,
 "nbformat_minor": 2
}
