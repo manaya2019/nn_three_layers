{
 "cells": [
  {
   "cell_type": "code",
   "execution_count": 181,
   "metadata": {},
   "outputs": [],
   "source": [
    "import numpy as np\n",
    "import matplotlib.pyplot as plt\n",
    "\n",
    "%matplotlib inline"
   ]
  },
  {
   "cell_type": "markdown",
   "metadata": {},
   "source": [
    "## Est-ce qu'un ANN peur apprendre à dire si un eleve a son bac ou pas"
   ]
  },
  {
   "cell_type": "markdown",
   "metadata": {},
   "source": [
    "### Création d'un dataset d'élèves, de notes et leur résultat au bac"
   ]
  },
  {
   "cell_type": "code",
   "execution_count": 145,
   "metadata": {},
   "outputs": [
    {
     "data": {
      "text/plain": [
       "(4, 200)"
      ]
     },
     "execution_count": 145,
     "metadata": {},
     "output_type": "execute_result"
    }
   ],
   "source": [
    "# Je veux créer une matrice avec 4 lignes(dont chacune represente une matière) \n",
    "#et 200 colonnes pour les exemples d'éleves\n",
    "n_matieres   = 4\n",
    "n_eleves     = 200\n",
    "note_maximal = 20\n",
    "X = np.random.randint(note_maximal + 1, # pour retourner des nombres entre 0 et 20 (inclus)\n",
    "                      size=(n_matieres,\n",
    "                            n_eleves))\n",
    "X.shape"
   ]
  },
  {
   "cell_type": "code",
   "execution_count": 156,
   "metadata": {},
   "outputs": [
    {
     "data": {
      "text/plain": [
       "(200, 1)"
      ]
     },
     "execution_count": 156,
     "metadata": {},
     "output_type": "execute_result"
    }
   ],
   "source": [
    "# A partir de notre dataset X, je crée mon label Y qui renvoie aux résultats des élèves \n",
    "#c'est à dire s'ils passent le bac ou pas\n",
    "\n",
    "# Création d'un Bac fictif\n",
    "coeffs = np.array([2, 4, 2, 6])\n",
    "coeffs = coeffs.reshape(4, 1)\n",
    "\n",
    "# On calcule le score en faisant la somme des notes * coeffs pour chaque élève\n",
    "scores_bac = np.dot(X.T, coeffs)\n",
    "\n",
    "moyennes = scores_bac/np.sum(coeffs)\n",
    "\n",
    "#Pour avoir une matrice composée de 0(si l'éleve n'a pas le bac) et 1(s'il a le bac) \n",
    "Y = (moyennes>=10)*1\n",
    "\n",
    "\n",
    "Y.shape"
   ]
  },
  {
   "cell_type": "markdown",
   "metadata": {},
   "source": [
    "## Architecture du RNN"
   ]
  },
  {
   "cell_type": "code",
   "execution_count": 157,
   "metadata": {},
   "outputs": [],
   "source": [
    "def init_parametres(n_features_x,\n",
    "                    n_neuron_l1,\n",
    "                    n_neuron_l2,\n",
    "                    n_neuron_last):\n",
    "\n",
    "    W1 = np.random.randn(n_features_x, n_neuron_l1)*0.01\n",
    "    b1 = np.zeros((1, n_neuron_l1))\n",
    "    \n",
    "    \n",
    "    W2 = np.random.randn(n_neuron_l1, n_neuron_l2)*0.01\n",
    "    b2 = np.zeros((1, n_neuron_l2))\n",
    "    \n",
    "    \n",
    "    W3 = np.random.randn(n_neuron_l2, n_neuron_last)*0.01\n",
    "    b3 = np.zeros((1, n_neuron_last ))\n",
    "    \n",
    "    #creation d'un dictionnaire pour stocker les résultats de mes parametres\n",
    "    parametres = {\"W1\" : W1,\n",
    "                 \"W2\" : W2,\n",
    "                 \"W3\" : W3,\n",
    "                 \"b1\" : b1,\n",
    "                 \"b2\" : b2, \n",
    "                 \"b3\" : b3}\n",
    "\n",
    "    return parametres"
   ]
  },
  {
   "cell_type": "code",
   "execution_count": 171,
   "metadata": {},
   "outputs": [],
   "source": [
    "# Mon RNN aura 3 layers: 1 input layer(3), 1, hidden layer(3) et 1 output layer(1)\n",
    "#JE crée la fonction initialisation des parametres\n",
    "\n",
    "\n",
    "n_fx    = X.shape[0]\n",
    "n_n1    = 3\n",
    "n_n2    = 3\n",
    "n_nlast = 1  # On prédit deux classes donc on a besoin que d'un neurone en sortie (classif binaire)\n",
    "\n",
    "parametres = init_parametres(n_fx, n_n1, n_n2, n_nlast)"
   ]
  },
  {
   "cell_type": "code",
   "execution_count": 172,
   "metadata": {},
   "outputs": [
    {
     "data": {
      "text/plain": [
       "{'W1': array([[-0.00469995,  0.01419271, -0.00842324],\n",
       "        [ 0.00311404, -0.003209  ,  0.0015512 ],\n",
       "        [-0.0059534 , -0.00339539,  0.00345697],\n",
       "        [ 0.0010456 ,  0.00141657,  0.00581509]]),\n",
       " 'W2': array([[-0.00176928, -0.0029647 , -0.01454688],\n",
       "        [ 0.00477738, -0.01416423,  0.00324922],\n",
       "        [-0.00385413, -0.00172597, -0.00222993]]),\n",
       " 'W3': array([[ 0.00718224],\n",
       "        [ 0.01271985],\n",
       "        [-0.00947209]]),\n",
       " 'b1': array([[0., 0., 0.]]),\n",
       " 'b2': array([[0., 0., 0.]]),\n",
       " 'b3': array([[0.]])}"
      ]
     },
     "execution_count": 172,
     "metadata": {},
     "output_type": "execute_result"
    }
   ],
   "source": [
    "parametres"
   ]
  },
  {
   "cell_type": "code",
   "execution_count": 183,
   "metadata": {},
   "outputs": [
    {
     "data": {
      "text/plain": [
       "[<matplotlib.lines.Line2D at 0x7ff78b2bff98>]"
      ]
     },
     "execution_count": 183,
     "metadata": {},
     "output_type": "execute_result"
    },
    {
     "data": {
      "image/png": "[encoded data removed]",
      "text/plain": [
       "<Figure size 432x288 with 1 Axes>"
      ]
     },
     "metadata": {
      "needs_background": "light"
     },
     "output_type": "display_data"
    }
   ],
   "source": [
    "def sigmoid(z):\n",
    "    S = 1/(1+ np.exp(-z))\n",
    "    return S\n",
    "\n",
    "ligne = np.linspace(-10,10)\n",
    "plt.plot(ligne, sigmoid(ligne))"
   ]
  },
  {
   "cell_type": "code",
   "execution_count": 184,
   "metadata": {},
   "outputs": [],
   "source": [
    "def forward_pass(X, parametres):\n",
    "    \n",
    "    W1 = parametres[\"W1\"] \n",
    "    W2 = parametres[\"W2\"] \n",
    "    W3 = parametres[\"W3\"] \n",
    "    b1 = parametres[\"b1\"] \n",
    "    b2 = parametres[\"b1\"] \n",
    "    b3 = parametres[\"b3\"]\n",
    "    \n",
    "    \n",
    "    Z1 = np.dot(X.T, W1)+ b1\n",
    "    A1 = sigmoid(Z1)\n",
    "    Z2 = np.dot(A1, W2)+ b2\n",
    "    A2 = sigmoid(Z2)\n",
    "    Z3 = np.dot(A2, W3)+ b3\n",
    "    A3 = sigmoid(Z3)\n",
    "    \n",
    "    return A3"
   ]
  }
 ],
 "metadata": {
  "kernelspec": {
   "display_name": "Python 3",
   "language": "python",
   "name": "python3"
  },
  "language_info": {
   "codemirror_mode": {
    "name": "ipython",
    "version": 3
   },
   "file_extension": ".py",
   "mimetype": "text/x-python",
   "name": "python",
   "nbconvert_exporter": "python",
   "pygments_lexer": "ipython3",
   "version": "3.7.1"
  }
 },
 "nbformat": 4,
 "nbformat_minor": 2
}
